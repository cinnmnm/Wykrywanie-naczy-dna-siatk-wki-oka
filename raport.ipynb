{
 "cells": [
  {
   "cell_type": "markdown",
   "id": "9e84ed80",
   "metadata": {},
   "source": [
    "## Raport: Wykrywanie naczyń dna siatkówki oka\n",
    "- Skład grupy: Anna Zalesińska, Mateusz Juszczak\n",
    "- Zastosowany język programowania oraz dodatkowe biblioteki: Python"
   ]
  },
  {
   "cell_type": "markdown",
   "id": "da62bc3f",
   "metadata": {},
   "source": [
    "- Opis zastosowanych metod:\n",
    "  - przetwarzanie obrazów:\n",
    "    - poszczególne kroki przetwarzania obrazu (w tym zastosowane filtry),\n",
    "    - krótkie uzasadnienie zastosowanego rozwiązania\n",
    "  - uczenie maszynowe (4.0/5.0):\n",
    "    - przygotowanie danych — wyznaczanie wycinków obrazu, ekstrakcja cech z wycinków (jeśli zastosowano),\n",
    "    - wstępne przetwarzanie zbioru uczącego (jeśli zastosowano),\n",
    "    - zastosowane metody uczenia maszynowego wraz z informacją o przyjętych parametrach,\n",
    "    - wyniki wstępnej oceny zbudowanego klasyfikatora (testy hold-out),\n",
    "    - krótkie uzasadnienie zastosowanego rozwiązania\n",
    "\n",
    "- Wizualizacja wyników działania programu dla wybranych obrazów (warto pokazać zarówno sukcesy jak i porażki). Dla porównania należy zamieścić maskę ekspercką (ground truth). Wyniki wizualizacji należy zaprezentować dla co najmniej 5 obrazów (w przypadku metod uczenia maszynowego nie mogą to być obrazy, które zostały wykorzystane do nauczenia klasyfikatora).\n",
    "- Analiza wyników działania programu dla wybranych obrazów (tych samych, które wykorzystano w punkcie 4) z wykorzystaniem odpowiednich miar oceny (omawianych wcześniej). Analizę należy przeprowadzić indywidualnie dla każdego z obrazów. W przypadku realizacji zadań na 4.0/5.0 należy dokonać porównania miar oceny osiąganych przez metody przetwarzania obrazów oraz uczenia maszynowego."
   ]
  }
 ],
 "metadata": {
  "language_info": {
   "name": "python"
  }
 },
 "nbformat": 4,
 "nbformat_minor": 5
}
