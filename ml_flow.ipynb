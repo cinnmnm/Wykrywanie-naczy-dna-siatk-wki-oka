{
 "cells": [
  {
   "cell_type": "code",
   "execution_count": 1,
   "id": "945797dc",
   "metadata": {},
   "outputs": [],
   "source": [
    "from Preprocessing import ImagePreprocessing\n",
    "from Postprocessing import ImagePostprocessing\n",
    "import numpy as np\n",
    "import matplotlib.pyplot as plt"
   ]
  },
  {
   "cell_type": "code",
   "execution_count": 2,
   "id": "9c9990c5",
   "metadata": {},
   "outputs": [],
   "source": [
    "from ImageLoader import ImageLoader\n",
    "import os\n",
    "\n",
    "image_dir = \"images/\"\n",
    "image_paths = [os.path.join(image_dir, \"pictures\", fname) for fname in os.listdir(os.path.join(image_dir, \"pictures\"))]\n",
    "labels_paths = [\n",
    "    os.path.join(image_dir, \"manual\", os.path.basename(p).replace(\".JPG\", \".tif\").replace(\".jpg\", \".tif\"))\n",
    "    for p in image_paths\n",
    "]\n",
    "masks_paths = [\n",
    "    os.path.join(image_dir, \"mask\", os.path.basename(p).replace(\".JPG\", \"_mask.tif\").replace(\".jpg\", \"_mask.tif\"))\n",
    "    for p in image_paths\n",
    "]\n",
    "\n",
    "images = ImageLoader.load_images(image_paths)\n",
    "labels = ImageLoader.load_images(labels_paths)\n",
    "masks = ImageLoader.load_images(masks_paths)\n",
    "\n",
    "images = np.stack(images)\n",
    "labels = np.stack(labels)\n",
    "masks = np.stack(masks)"
   ]
  },
  {
   "cell_type": "code",
   "execution_count": 3,
   "id": "ae0d94ce",
   "metadata": {},
   "outputs": [
    {
     "name": "stdout",
     "output_type": "stream",
     "text": [
      "(45, 2336, 3504, 3) (45, 2336, 3504) (45, 2336, 3504, 3)\n"
     ]
    }
   ],
   "source": [
    "print(images.shape, labels.shape, masks.shape)"
   ]
  },
  {
   "cell_type": "code",
   "execution_count": 3,
   "id": "a572711d",
   "metadata": {},
   "outputs": [],
   "source": [
    "from PatchFeatureExtractor import PatchFeatureExtractor\n",
    "pfe = PatchFeatureExtractor()\n",
    "\n",
    "#patches, labels = pfe.extract_features([images[0]], [labels[0]], [masks[0]])"
   ]
  },
  {
   "cell_type": "code",
   "execution_count": null,
   "id": "42f11b76",
   "metadata": {},
   "outputs": [],
   "source": [
    "# ~1m 18s per image\n",
    "patches, labels = pfe.extract_patches([images[0]], [labels[0]], [masks[0]])"
   ]
  },
  {
   "cell_type": "code",
   "execution_count": 5,
   "id": "5e251c19",
   "metadata": {},
   "outputs": [
    {
     "name": "stdout",
     "output_type": "stream",
     "text": [
      "5810809\n"
     ]
    }
   ],
   "source": [
    "zero_indices = np.where(labels == 0)[0]\n",
    "positive = np.count_nonzero(labels)\n",
    "drop_count = len(labels) - 2 * positive\n",
    "print(drop_count)"
   ]
  },
  {
   "cell_type": "code",
   "execution_count": 6,
   "id": "6b2113c9",
   "metadata": {},
   "outputs": [],
   "source": [
    "# Randomly select indices to drop\n",
    "drop_indices = np.random.choice(zero_indices, size=drop_count, replace=False)\n",
    "\n",
    "# Create mask to keep the rest\n",
    "mask = np.ones(len(labels), dtype=bool)\n",
    "mask[drop_indices] = False\n",
    "\n",
    "patches = patches[mask]\n",
    "labels = labels[mask]"
   ]
  },
  {
   "cell_type": "code",
   "execution_count": 7,
   "id": "0af302c0",
   "metadata": {},
   "outputs": [
    {
     "name": "stdout",
     "output_type": "stream",
     "text": [
      "541198 1082396\n",
      "(1082396, 5, 5, 3)\n"
     ]
    }
   ],
   "source": [
    "print(np.count_nonzero(labels), len(labels))\n",
    "print(patches.shape)"
   ]
  },
  {
   "cell_type": "code",
   "execution_count": null,
   "id": "7651233f",
   "metadata": {},
   "outputs": [],
   "source": [
    "# ~1m 17s\n",
    "features = pfe.extract_features(patches, labels)"
   ]
  },
  {
   "cell_type": "code",
   "execution_count": 9,
   "id": "df855e78",
   "metadata": {},
   "outputs": [
    {
     "name": "stdout",
     "output_type": "stream",
     "text": [
      "[[ 9.21600000e-01  7.20000000e-01  6.40000000e-01  3.03092013e+03\n",
      "  -1.30798680e+01  3.03092013e+03  2.64106581e-03  1.29902103e-10\n",
      "   2.99455178e-13  2.23102601e-13 -5.76664030e-26 -2.54280305e-18\n",
      "   0.00000000e+00]\n",
      " [ 1.70560000e+00  1.19040000e+00  1.04640000e+00  3.05696799e+03\n",
      "  -2.99634226e+01  3.06195820e+03  2.61050683e-03  6.58177664e-10\n",
      "   2.45892227e-14  2.44440869e-13  1.57346464e-26  6.14780360e-18\n",
      "   1.05623366e-26]\n",
      " [ 1.20000000e+00  1.20000000e+00  1.20000000e+00  2.90337931e+03\n",
      "  -8.60689655e+00  2.90675103e+03  2.76343893e-03  6.96036108e-11\n",
      "   6.05849867e-13  1.82631560e-12 -9.68115433e-25  1.07319542e-17\n",
      "  -1.65931145e-24]\n",
      " [ 8.57600000e-01  8.57600000e-01  8.57600000e-01  2.88869417e+03\n",
      "  -2.68543689e+01  2.88793065e+03  2.77807292e-03  6.67293065e-10\n",
      "   1.52509710e-13  8.80508753e-13 -1.01602571e-25  1.60983529e-17\n",
      "  -3.06248878e-25]\n",
      " [ 7.20000000e-01  1.03040000e+00  1.04000000e+00  2.87793031e+03\n",
      "  -2.99233449e+01  2.86691568e+03  2.78980976e-03  8.73252952e-10\n",
      "   1.82132910e-13  3.29454937e-13 -6.83909562e-26  8.09389398e-18\n",
      "  -4.28439992e-26]]\n"
     ]
    }
   ],
   "source": [
    "print(features[0:5])"
   ]
  },
  {
   "cell_type": "code",
   "execution_count": null,
   "id": "05e69522",
   "metadata": {},
   "outputs": [],
   "source": []
  }
 ],
 "metadata": {
  "kernelspec": {
   "display_name": "Python 3",
   "language": "python",
   "name": "python3"
  },
  "language_info": {
   "codemirror_mode": {
    "name": "ipython",
    "version": 3
   },
   "file_extension": ".py",
   "mimetype": "text/x-python",
   "name": "python",
   "nbconvert_exporter": "python",
   "pygments_lexer": "ipython3",
   "version": "3.10.12"
  }
 },
 "nbformat": 4,
 "nbformat_minor": 5
}
