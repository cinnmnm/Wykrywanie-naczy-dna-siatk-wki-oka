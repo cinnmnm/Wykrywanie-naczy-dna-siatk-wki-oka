{
 "cells": [
  {
   "cell_type": "code",
   "execution_count": 1,
   "id": "945797dc",
   "metadata": {},
   "outputs": [],
   "source": [
    "from Preprocessing import ImagePreprocessing\n",
    "from Postprocessing import ImagePostprocessing\n",
    "import numpy as np\n",
    "import matplotlib.pyplot as plt\n",
    "from PatchFeatureExtractor import PatchFeatureExtractor\n",
    "pfe = PatchFeatureExtractor()"
   ]
  },
  {
   "cell_type": "code",
   "execution_count": 2,
   "id": "9c9990c5",
   "metadata": {},
   "outputs": [],
   "source": [
    "from ImageLoader import ImageLoader\n",
    "import os\n",
    "\n",
    "image_dir = \"images/\"\n",
    "image_paths = [os.path.join(image_dir, \"pictures\", fname) for fname in os.listdir(os.path.join(image_dir, \"pictures\"))]\n",
    "labels_paths = [\n",
    "    os.path.join(image_dir, \"manual\", os.path.basename(p).replace(\".JPG\", \".tif\").replace(\".jpg\", \".tif\"))\n",
    "    for p in image_paths\n",
    "]\n",
    "masks_paths = [\n",
    "    os.path.join(image_dir, \"mask\", os.path.basename(p).replace(\".JPG\", \"_mask.tif\").replace(\".jpg\", \"_mask.tif\"))\n",
    "    for p in image_paths\n",
    "]\n",
    "\n",
    "images = ImageLoader.load_images(image_paths)\n",
    "labels = ImageLoader.load_images(labels_paths)\n",
    "masks = ImageLoader.load_images(masks_paths)\n",
    "\n",
    "images = np.stack(images)\n",
    "labels = np.stack(labels)\n",
    "masks = np.stack(masks)"
   ]
  },
  {
   "cell_type": "code",
   "execution_count": 3,
   "id": "ae0d94ce",
   "metadata": {},
   "outputs": [
    {
     "name": "stdout",
     "output_type": "stream",
     "text": [
      "(45, 2336, 3504, 3) (45, 2336, 3504) (45, 2336, 3504, 3)\n"
     ]
    }
   ],
   "source": [
    "print(images.shape, labels.shape, masks.shape)"
   ]
  },
  {
   "cell_type": "code",
   "execution_count": 4,
   "id": "36e8079e",
   "metadata": {},
   "outputs": [],
   "source": [
    "from scipy.ndimage import convolve\n",
    "\n",
    "class_patches_per_img = 1\n",
    "patch_size = 5\n",
    "\n",
    "patches = []\n",
    "features = []\n",
    "patch_labels = []\n",
    "\n",
    "for image, label, mask in zip([images[0]], [labels[0]], [masks[0]]):\n",
    "    positive_idx = []\n",
    "    negative_idx = []\n",
    "    half_patch = patch_size // 2\n",
    "\n",
    "    # Convert mask to single channel if needed\n",
    "    if mask.ndim == 3 and mask.shape[2] > 1:\n",
    "        mask_gray = (mask[..., 0] > 0).astype(np.uint8)\n",
    "    else:\n",
    "        mask_gray = (mask > 0).astype(np.uint8)\n",
    "\n",
    "    kernel = np.ones((patch_size, patch_size), dtype=np.uint8)\n",
    "    valid_mask = convolve(mask_gray, kernel, mode='constant', cval=0)\n",
    "    valid_mask = valid_mask == (patch_size * patch_size)\n",
    "\n",
    "    for y in range(half_patch, label.shape[0] - half_patch):\n",
    "        for x in range(half_patch, label.shape[1] - half_patch):\n",
    "            if valid_mask[y, x]:\n",
    "                if label[y, x] == 1:\n",
    "                    positive_idx.append((y, x))\n",
    "                elif label[y, x] == 0:\n",
    "                    negative_idx.append((y, x))\n",
    "    np.random.shuffle(positive_idx)\n",
    "    np.random.shuffle(negative_idx)\n",
    "\n",
    "    num_pos = min(len(positive_idx), class_patches_per_img)\n",
    "    num_neg = min(len(negative_idx), class_patches_per_img)\n",
    "\n",
    "    selected_pos = positive_idx[:num_pos]\n",
    "    selected_neg = negative_idx[:num_neg]\n",
    "\n",
    "    for y, x in selected_pos:\n",
    "        patch = image[y - half_patch:y + half_patch + 1, x - half_patch:x + half_patch + 1]\n",
    "        patches.append(patch)\n",
    "        features.append(pfe.extract_features(patch))\n",
    "        patch_labels.append(1)\n",
    "\n",
    "    for y, x in selected_neg:\n",
    "        patch = image[y - half_patch:y + half_patch + 1, x - half_patch:x + half_patch + 1]\n",
    "        patches.append(patch)\n",
    "        features.append(pfe.extract_features(patch))\n",
    "        patch_labels.append(0)\n"
   ]
  },
  {
   "cell_type": "code",
   "execution_count": 5,
   "id": "a572711d",
   "metadata": {},
   "outputs": [
    {
     "name": "stdout",
     "output_type": "stream",
     "text": [
      "1 1\n"
     ]
    }
   ],
   "source": [
    "print(len(patches), len(features))"
   ]
  },
  {
   "cell_type": "code",
   "execution_count": 6,
   "id": "42f11b76",
   "metadata": {},
   "outputs": [
    {
     "ename": "KeyboardInterrupt",
     "evalue": "",
     "output_type": "error",
     "traceback": [
      "\u001b[0;31m---------------------------------------------------------------------------\u001b[0m",
      "\u001b[0;31mKeyboardInterrupt\u001b[0m                         Traceback (most recent call last)",
      "Cell \u001b[0;32mIn[6], line 3\u001b[0m\n\u001b[1;32m      1\u001b[0m \u001b[38;5;66;03m# ~1m 18s per image 5x5\u001b[39;00m\n\u001b[1;32m      2\u001b[0m \u001b[38;5;66;03m# ~ per image 27x27\u001b[39;00m\n\u001b[0;32m----> 3\u001b[0m patches, labels \u001b[38;5;241m=\u001b[39m \u001b[43mpfe\u001b[49m\u001b[38;5;241;43m.\u001b[39;49m\u001b[43mextract_patches\u001b[49m\u001b[43m(\u001b[49m\u001b[43m[\u001b[49m\u001b[43mimages\u001b[49m\u001b[43m[\u001b[49m\u001b[38;5;241;43m0\u001b[39;49m\u001b[43m]\u001b[49m\u001b[43m]\u001b[49m\u001b[43m,\u001b[49m\u001b[43m \u001b[49m\u001b[43m[\u001b[49m\u001b[43mlabels\u001b[49m\u001b[43m[\u001b[49m\u001b[38;5;241;43m0\u001b[39;49m\u001b[43m]\u001b[49m\u001b[43m]\u001b[49m\u001b[43m,\u001b[49m\u001b[43m \u001b[49m\u001b[43m[\u001b[49m\u001b[43mmasks\u001b[49m\u001b[43m[\u001b[49m\u001b[38;5;241;43m0\u001b[39;49m\u001b[43m]\u001b[49m\u001b[43m]\u001b[49m\u001b[43m,\u001b[49m\u001b[43m \u001b[49m\u001b[38;5;241;43m27\u001b[39;49m\u001b[43m)\u001b[49m\n",
      "File \u001b[0;32m~/Pulpit/wykrywanie-naczyn-dna-siatkowki-oka/PatchFeatureExtractor.py:19\u001b[0m, in \u001b[0;36mPatchFeatureExtractor.extract_patches\u001b[0;34m(self, images, truths, fovs, patch_size)\u001b[0m\n\u001b[1;32m     17\u001b[0m \u001b[38;5;28;01mfor\u001b[39;00m x \u001b[38;5;129;01min\u001b[39;00m \u001b[38;5;28mrange\u001b[39m(\u001b[38;5;241m0\u001b[39m, w \u001b[38;5;241m-\u001b[39m patch_size \u001b[38;5;241m+\u001b[39m \u001b[38;5;241m1\u001b[39m):\n\u001b[1;32m     18\u001b[0m     patch_mask \u001b[38;5;241m=\u001b[39m fov[y:y\u001b[38;5;241m+\u001b[39mpatch_size, x:x\u001b[38;5;241m+\u001b[39mpatch_size]\n\u001b[0;32m---> 19\u001b[0m     \u001b[38;5;28;01mif\u001b[39;00m \u001b[43mnp\u001b[49m\u001b[38;5;241;43m.\u001b[39;49m\u001b[43many\u001b[49m\u001b[43m(\u001b[49m\u001b[43mpatch_mask\u001b[49m\u001b[43m[\u001b[49m\u001b[38;5;241;43m.\u001b[39;49m\u001b[38;5;241;43m.\u001b[39;49m\u001b[38;5;241;43m.\u001b[39;49m\u001b[43m,\u001b[49m\u001b[38;5;241;43m0\u001b[39;49m\u001b[43m]\u001b[49m\u001b[43m \u001b[49m\u001b[38;5;241;43m==\u001b[39;49m\u001b[43m \u001b[49m\u001b[38;5;241;43m0\u001b[39;49m\u001b[43m)\u001b[49m:\n\u001b[1;32m     20\u001b[0m         \u001b[38;5;28;01mcontinue\u001b[39;00m\n\u001b[1;32m     21\u001b[0m     patch \u001b[38;5;241m=\u001b[39m img[y:y\u001b[38;5;241m+\u001b[39mpatch_size, x:x\u001b[38;5;241m+\u001b[39mpatch_size, :]\n",
      "File \u001b[0;32m/usr/local/lib/python3.10/dist-packages/numpy/core/fromnumeric.py:2322\u001b[0m, in \u001b[0;36many\u001b[0;34m(a, axis, out, keepdims, where)\u001b[0m\n\u001b[1;32m   2317\u001b[0m \u001b[38;5;28;01mdef\u001b[39;00m\u001b[38;5;250m \u001b[39m\u001b[38;5;21m_any_dispatcher\u001b[39m(a, axis\u001b[38;5;241m=\u001b[39m\u001b[38;5;28;01mNone\u001b[39;00m, out\u001b[38;5;241m=\u001b[39m\u001b[38;5;28;01mNone\u001b[39;00m, keepdims\u001b[38;5;241m=\u001b[39m\u001b[38;5;28;01mNone\u001b[39;00m, \u001b[38;5;241m*\u001b[39m,\n\u001b[1;32m   2318\u001b[0m                     where\u001b[38;5;241m=\u001b[39mnp\u001b[38;5;241m.\u001b[39m_NoValue):\n\u001b[1;32m   2319\u001b[0m     \u001b[38;5;28;01mreturn\u001b[39;00m (a, where, out)\n\u001b[0;32m-> 2322\u001b[0m \u001b[38;5;129m@array_function_dispatch\u001b[39m(_any_dispatcher)\n\u001b[1;32m   2323\u001b[0m \u001b[38;5;28;01mdef\u001b[39;00m\u001b[38;5;250m \u001b[39m\u001b[38;5;21many\u001b[39m(a, axis\u001b[38;5;241m=\u001b[39m\u001b[38;5;28;01mNone\u001b[39;00m, out\u001b[38;5;241m=\u001b[39m\u001b[38;5;28;01mNone\u001b[39;00m, keepdims\u001b[38;5;241m=\u001b[39mnp\u001b[38;5;241m.\u001b[39m_NoValue, \u001b[38;5;241m*\u001b[39m, where\u001b[38;5;241m=\u001b[39mnp\u001b[38;5;241m.\u001b[39m_NoValue):\n\u001b[1;32m   2324\u001b[0m \u001b[38;5;250m    \u001b[39m\u001b[38;5;124;03m\"\"\"\u001b[39;00m\n\u001b[1;32m   2325\u001b[0m \u001b[38;5;124;03m    Test whether any array element along a given axis evaluates to True.\u001b[39;00m\n\u001b[1;32m   2326\u001b[0m \n\u001b[0;32m   (...)\u001b[0m\n\u001b[1;32m   2410\u001b[0m \n\u001b[1;32m   2411\u001b[0m \u001b[38;5;124;03m    \"\"\"\u001b[39;00m\n\u001b[1;32m   2412\u001b[0m     \u001b[38;5;28;01mreturn\u001b[39;00m _wrapreduction(a, np\u001b[38;5;241m.\u001b[39mlogical_or, \u001b[38;5;124m'\u001b[39m\u001b[38;5;124many\u001b[39m\u001b[38;5;124m'\u001b[39m, axis, \u001b[38;5;28;01mNone\u001b[39;00m, out,\n\u001b[1;32m   2413\u001b[0m                           keepdims\u001b[38;5;241m=\u001b[39mkeepdims, where\u001b[38;5;241m=\u001b[39mwhere)\n",
      "\u001b[0;31mKeyboardInterrupt\u001b[0m: "
     ]
    }
   ],
   "source": [
    "# ~1m 18s per image 5x5\n",
    "# ~ per image 27x27\n",
    "patches, labels = pfe.extract_patches([images[0]], [labels[0]], [masks[0]], 27)"
   ]
  },
  {
   "cell_type": "code",
   "execution_count": null,
   "id": "5e251c19",
   "metadata": {},
   "outputs": [
    {
     "name": "stdout",
     "output_type": "stream",
     "text": [
      "5810809\n"
     ]
    }
   ],
   "source": [
    "print(np.count(patches))\n",
    "zero_indices = np.where(labels == 0)[0]\n",
    "positive = np.count_nonzero(labels)\n",
    "drop_count = len(labels) - 2 * positive\n",
    "print(drop_count)"
   ]
  },
  {
   "cell_type": "code",
   "execution_count": null,
   "id": "6b2113c9",
   "metadata": {},
   "outputs": [],
   "source": [
    "# Randomly select indices to drop\n",
    "drop_indices = np.random.choice(zero_indices, size=drop_count, replace=False)\n",
    "\n",
    "# Create mask to keep the rest\n",
    "mask = np.ones(len(labels), dtype=bool)\n",
    "mask[drop_indices] = False\n",
    "\n",
    "patches = patches[mask]\n",
    "labels = labels[mask]"
   ]
  },
  {
   "cell_type": "code",
   "execution_count": null,
   "id": "0af302c0",
   "metadata": {},
   "outputs": [
    {
     "name": "stdout",
     "output_type": "stream",
     "text": [
      "541198 1082396\n",
      "(1082396, 5, 5, 3)\n"
     ]
    }
   ],
   "source": [
    "print(np.count_nonzero(labels), len(labels))\n",
    "print(patches.shape)"
   ]
  },
  {
   "cell_type": "code",
   "execution_count": null,
   "id": "7651233f",
   "metadata": {},
   "outputs": [],
   "source": [
    "# ~1m 17s\n",
    "features = pfe.extract_features(patches, labels)"
   ]
  },
  {
   "cell_type": "code",
   "execution_count": null,
   "id": "df855e78",
   "metadata": {},
   "outputs": [
    {
     "name": "stdout",
     "output_type": "stream",
     "text": [
      "[[ 9.21600000e-01  7.20000000e-01  6.40000000e-01  3.03092013e+03\n",
      "  -1.30798680e+01  3.03092013e+03  2.64106581e-03  1.29902103e-10\n",
      "   2.99455178e-13  2.23102601e-13 -5.76664030e-26 -2.54280305e-18\n",
      "   0.00000000e+00]\n",
      " [ 1.70560000e+00  1.19040000e+00  1.04640000e+00  3.05696799e+03\n",
      "  -2.99634226e+01  3.06195820e+03  2.61050683e-03  6.58177664e-10\n",
      "   2.45892227e-14  2.44440869e-13  1.57346464e-26  6.14780360e-18\n",
      "   1.05623366e-26]\n",
      " [ 1.20000000e+00  1.20000000e+00  1.20000000e+00  2.90337931e+03\n",
      "  -8.60689655e+00  2.90675103e+03  2.76343893e-03  6.96036108e-11\n",
      "   6.05849867e-13  1.82631560e-12 -9.68115433e-25  1.07319542e-17\n",
      "  -1.65931145e-24]\n",
      " [ 8.57600000e-01  8.57600000e-01  8.57600000e-01  2.88869417e+03\n",
      "  -2.68543689e+01  2.88793065e+03  2.77807292e-03  6.67293065e-10\n",
      "   1.52509710e-13  8.80508753e-13 -1.01602571e-25  1.60983529e-17\n",
      "  -3.06248878e-25]\n",
      " [ 7.20000000e-01  1.03040000e+00  1.04000000e+00  2.87793031e+03\n",
      "  -2.99233449e+01  2.86691568e+03  2.78980976e-03  8.73252952e-10\n",
      "   1.82132910e-13  3.29454937e-13 -6.83909562e-26  8.09389398e-18\n",
      "  -4.28439992e-26]]\n"
     ]
    }
   ],
   "source": [
    "print(features[0:5])"
   ]
  }
 ],
 "metadata": {
  "kernelspec": {
   "display_name": "Python 3",
   "language": "python",
   "name": "python3"
  },
  "language_info": {
   "codemirror_mode": {
    "name": "ipython",
    "version": 3
   },
   "file_extension": ".py",
   "mimetype": "text/x-python",
   "name": "python",
   "nbconvert_exporter": "python",
   "pygments_lexer": "ipython3",
   "version": "3.10.12"
  }
 },
 "nbformat": 4,
 "nbformat_minor": 5
}
