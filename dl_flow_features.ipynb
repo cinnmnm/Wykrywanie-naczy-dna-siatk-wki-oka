{
 "cells": [
  {
   "cell_type": "code",
   "execution_count": null,
   "id": "20687635",
   "metadata": {},
   "outputs": [],
   "source": [
    "import numpy as np\n",
    "from torch.utils.data import DataLoader\n",
    "import torch.nn as nn\n",
    "import pandas as pd\n",
    "import torch\n",
    "from torch.optim import Adam"
   ]
  },
  {
   "cell_type": "code",
   "execution_count": 2,
   "id": "9ac1a987",
   "metadata": {},
   "outputs": [],
   "source": [
    "from ImageLoader import ImageLoader\n",
    "import os\n",
    "\n",
    "image_dir = \"images/\"\n",
    "image_paths = [os.path.join(image_dir, \"pictures\", fname) for fname in os.listdir(os.path.join(image_dir, \"pictures\"))]\n",
    "labels_paths = [os.path.join(image_dir, \"manual\", fname) for fname in os.listdir(os.path.join(image_dir, \"manual\"))]\n",
    "masks_paths = [os.path.join(image_dir, \"mask\", fname) for fname in os.listdir(os.path.join(image_dir, \"mask\"))]\n",
    "\n",
    "images = ImageLoader.load_images(image_paths)\n",
    "labels = ImageLoader.load_images(labels_paths)\n",
    "masks =ImageLoader.load_images(masks_paths)"
   ]
  },
  {
   "cell_type": "code",
   "execution_count": null,
   "id": "9884aaff",
   "metadata": {},
   "outputs": [
    {
     "name": "stdout",
     "output_type": "stream",
     "text": [
      "(2336, 3504, 3) (2336, 3504) (2336, 3504, 3)\n",
      "42 42 42\n",
      "0 1\n"
     ]
    }
   ],
   "source": [
    "print(images[0].shape, labels[0].shape, masks[0].shape)\n",
    "print(len(images), len(labels), len(masks))"
   ]
  },
  {
   "cell_type": "code",
   "execution_count": null,
   "id": "ec7bd78f",
   "metadata": {},
   "outputs": [
    {
     "name": "stdout",
     "output_type": "stream",
     "text": [
      "Number of valid patch centers: 6834668\n"
     ]
    }
   ],
   "source": [
    "from PatchFeatureExtractor import PatchFeatureExtractor\n",
    "\n",
    "pfe = PatchFeatureExtractor()\n",
    "\n",
    "features = [] \n",
    "\n",
    "pfe.extract_features(images[0], labels[0], masks[0], csv_path=\"datasets/features.csv\")\n",
    "\n",
    "# for i in range(len(images)):\n",
    "#     features.append(pfe.extract_features(images[i], labels[i], masks[i]))"
   ]
  },
  {
   "cell_type": "code",
   "execution_count": null,
   "id": "0ea47453",
   "metadata": {},
   "outputs": [],
   "source": [
    "df = pd.read_csv(\"datasets/features.csv\")"
   ]
  },
  {
   "cell_type": "code",
   "execution_count": 23,
   "id": "774ff99d",
   "metadata": {},
   "outputs": [
    {
     "name": "stdout",
     "output_type": "stream",
     "text": [
      "label == 0: 5000\n",
      "label == 255: 5000\n"
     ]
    }
   ],
   "source": [
    "count_0 = (df['label'] == 0).sum()\n",
    "count_255 = (df['label'] != 0).sum()\n",
    "print(\"label == 0:\", count_0)\n",
    "print(\"label == 255:\", count_255)\n",
    "\n",
    "# NIE ZGADZA SIĘ COŚ Z N FEATURES"
   ]
  },
  {
   "cell_type": "code",
   "execution_count": null,
   "id": "539fd0d2",
   "metadata": {},
   "outputs": [],
   "source": [
    "y, x = features"
   ]
  },
  {
   "cell_type": "code",
   "execution_count": 6,
   "id": "e0288793",
   "metadata": {},
   "outputs": [
    {
     "name": "stdout",
     "output_type": "stream",
     "text": [
      "5000 5000\n"
     ]
    }
   ],
   "source": [
    "print(len(y), len(x))\n",
    "#batch size x channels x num features"
   ]
  },
  {
   "cell_type": "code",
   "execution_count": 7,
   "id": "0a4837b6",
   "metadata": {},
   "outputs": [],
   "source": [
    "from Dataset import Dataset\n",
    "from sklearn.model_selection import train_test_split\n",
    "\n",
    "X_train, X_test, y_train, y_test = train_test_split(x, y, test_size=5, random_state=1)\n",
    "X_train, X_val, y_train, y_val = train_test_split(X_train, y_train, test_size=20, random_state=1)\n",
    "\n",
    "train_data = Dataset(X_train, y_train)\n",
    "valid_data = Dataset(X_val, y_val)\n",
    "test_data = Dataset(X_test, y_test)"
   ]
  },
  {
   "cell_type": "code",
   "execution_count": null,
   "id": "87d773b4",
   "metadata": {},
   "outputs": [],
   "source": [
    "batch_size = 256\n",
    "\n",
    "train_loader = DataLoader(train_data, batch_size, shuffle=True)\n",
    "valid_loader = DataLoader(valid_data, batch_size)\n",
    "test_loader = DataLoader(test_data, batch_size)"
   ]
  },
  {
   "cell_type": "code",
   "execution_count": null,
   "id": "ec4e7d2b",
   "metadata": {},
   "outputs": [
    {
     "ename": "TypeError",
     "evalue": "descriptor '__init__' of 'super' object needs an argument",
     "output_type": "error",
     "traceback": [
      "\u001b[1;31m---------------------------------------------------------------------------\u001b[0m",
      "\u001b[1;31mTypeError\u001b[0m                                 Traceback (most recent call last)",
      "Cell \u001b[1;32mIn[10], line 6\u001b[0m\n\u001b[0;32m      3\u001b[0m h_size \u001b[38;5;241m=\u001b[39m \u001b[38;5;241m512\u001b[39m\n\u001b[0;32m      4\u001b[0m n_classes \u001b[38;5;241m=\u001b[39m \u001b[38;5;241m2\u001b[39m\n\u001b[1;32m----> 6\u001b[0m model \u001b[38;5;241m=\u001b[39m \u001b[43mDLModel\u001b[49m\u001b[43m(\u001b[49m\u001b[38;5;241;43m15\u001b[39;49m\u001b[43m \u001b[49m\u001b[38;5;241;43m*\u001b[39;49m\u001b[43m \u001b[49m\u001b[38;5;241;43m15\u001b[39;49m\u001b[43m)\u001b[49m \n\u001b[0;32m      8\u001b[0m loss_function \u001b[38;5;241m=\u001b[39m nn\u001b[38;5;241m.\u001b[39mCrossEntropyLoss()\n\u001b[0;32m      9\u001b[0m optimizer \u001b[38;5;241m=\u001b[39m Adam(model\u001b[38;5;241m.\u001b[39mparameters())\n",
      "File \u001b[1;32mc:\\Users\\AniaV3\\Documents\\GitHub\\wykrywanie-naczyn-dna-siatkowki-oka\\DLModel.py:8\u001b[0m, in \u001b[0;36mDLModel.__init__\u001b[1;34m(self, input_size, optimizer, conv1_size, conv2_size, fc_size)\u001b[0m\n\u001b[0;32m      7\u001b[0m \u001b[38;5;28;01mdef\u001b[39;00m\u001b[38;5;250m \u001b[39m\u001b[38;5;21m__init__\u001b[39m(\u001b[38;5;28mself\u001b[39m, input_size, optimizer \u001b[38;5;241m=\u001b[39m \u001b[38;5;124m'\u001b[39m\u001b[38;5;124mAdam\u001b[39m\u001b[38;5;124m'\u001b[39m, conv1_size \u001b[38;5;241m=\u001b[39m \u001b[38;5;241m64\u001b[39m, conv2_size \u001b[38;5;241m=\u001b[39m \u001b[38;5;241m128\u001b[39m, fc_size \u001b[38;5;241m=\u001b[39m \u001b[38;5;241m512\u001b[39m):\n\u001b[1;32m----> 8\u001b[0m     \u001b[38;5;28;43msuper\u001b[39;49m\u001b[38;5;241;43m.\u001b[39;49m\u001b[38;5;21;43m__init__\u001b[39;49m\u001b[43m(\u001b[49m\u001b[43m)\u001b[49m\n\u001b[0;32m      9\u001b[0m     max_pool \u001b[38;5;241m=\u001b[39m nn\u001b[38;5;241m.\u001b[39mMaxPool2d(kernel_size\u001b[38;5;241m=\u001b[39m\u001b[38;5;241m2\u001b[39m, stride\u001b[38;5;241m=\u001b[39m\u001b[38;5;241m2\u001b[39m, padding\u001b[38;5;241m=\u001b[39m\u001b[38;5;241m0\u001b[39m)\n\u001b[0;32m     11\u001b[0m     \u001b[38;5;28mself\u001b[39m\u001b[38;5;241m.\u001b[39mmodel \u001b[38;5;241m=\u001b[39m nn\u001b[38;5;241m.\u001b[39mSequential(\n\u001b[0;32m     12\u001b[0m         nn\u001b[38;5;241m.\u001b[39mConv2d(input_size, out_channels\u001b[38;5;241m=\u001b[39m\u001b[38;5;241m64\u001b[39m, kernel_size\u001b[38;5;241m=\u001b[39m\u001b[38;5;241m4\u001b[39m),\n\u001b[0;32m     13\u001b[0m         nn\u001b[38;5;241m.\u001b[39mConv2d(in_channels\u001b[38;5;241m=\u001b[39m\u001b[38;5;241m64\u001b[39m, out_channels\u001b[38;5;241m=\u001b[39m\u001b[38;5;241m64\u001b[39m, kernel_size\u001b[38;5;241m=\u001b[39m\u001b[38;5;241m4\u001b[39m),\n\u001b[1;32m   (...)\u001b[0m\n\u001b[0;32m     20\u001b[0m         nn\u001b[38;5;241m.\u001b[39mLinear(fc_size, \u001b[38;5;241m2\u001b[39m)\n\u001b[0;32m     21\u001b[0m     )\n",
      "\u001b[1;31mTypeError\u001b[0m: descriptor '__init__' of 'super' object needs an argument"
     ]
    }
   ],
   "source": [
    "h_size = 512\n",
    "n_classes = 2\n",
    "\n",
    "model \n",
    "\n",
    "loss_function = nn.CrossEntropyLoss()\n",
    "optimizer = Adam(model.parameters())"
   ]
  },
  {
   "cell_type": "code",
   "execution_count": null,
   "id": "43381b78",
   "metadata": {},
   "outputs": [],
   "source": [
    "def get_batch_accuracy(output, y, N):\n",
    "    pred = output.argmax(dim=1, keepdim=True)\n",
    "    correct = pred.eq(y.view_as(pred)).sum().item()\n",
    "    return correct / N"
   ]
  },
  {
   "cell_type": "code",
   "execution_count": null,
   "id": "10879f66",
   "metadata": {},
   "outputs": [],
   "source": [
    "def validate(model):\n",
    "    loss = 0\n",
    "    accuracy = 0\n",
    "\n",
    "    model.eval()\n",
    "    with torch.no_grad():\n",
    "        for x, y in valid_loader:\n",
    "            output = model(x)\n",
    "\n",
    "            loss += loss_function(output, y).item()\n",
    "            accuracy += get_batch_accuracy(output, y, valid_N)\n",
    "    print('Valid - Loss: {:.4f} Accuracy: {:.4f}'.format(loss, accuracy))"
   ]
  },
  {
   "cell_type": "code",
   "execution_count": null,
   "id": "3513ddff",
   "metadata": {},
   "outputs": [],
   "source": [
    "def train():\n",
    "    loss = 0\n",
    "    accuracy = 0\n",
    "\n",
    "    model.train()\n",
    "    for x, y in train_loader:\n",
    "        output = model(x)\n",
    "        optimizer.zero_grad()\n",
    "        batch_loss = loss_function(output, y)\n",
    "        batch_loss.backward()\n",
    "        optimizer.step()\n",
    "\n",
    "        loss += batch_loss.item()\n",
    "        accuracy += get_batch_accuracy(output, y, train_N)\n",
    "    print('Train - Loss: {:.4f} Accuracy: {:.4f}'.format(loss, accuracy))"
   ]
  },
  {
   "cell_type": "code",
   "execution_count": null,
   "id": "62a0ed93",
   "metadata": {},
   "outputs": [],
   "source": [
    "    epochs = 20\n",
    "\n",
    "for epoch in range(epochs):\n",
    "    print('Epoch: {}'.format(epoch))\n",
    "    train()\n",
    "    validate()"
   ]
  }
 ],
 "metadata": {
  "kernelspec": {
   "display_name": "Python 3",
   "language": "python",
   "name": "python3"
  },
  "language_info": {
   "codemirror_mode": {
    "name": "ipython",
    "version": 3
   },
   "file_extension": ".py",
   "mimetype": "text/x-python",
   "name": "python",
   "nbconvert_exporter": "python",
   "pygments_lexer": "ipython3",
   "version": "3.10.11"
  }
 },
 "nbformat": 4,
 "nbformat_minor": 5
}
